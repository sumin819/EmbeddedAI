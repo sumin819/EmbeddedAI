{
 "cells": [
  {
   "cell_type": "code",
   "execution_count": 1,
   "metadata": {},
   "outputs": [
    {
     "name": "stderr",
     "output_type": "stream",
     "text": [
      "c:\\Users\\PARK\\anaconda3\\envs\\eai\\lib\\site-packages\\tqdm\\auto.py:22: TqdmWarning: IProgress not found. Please update jupyter and ipywidgets. See https://ipywidgets.readthedocs.io/en/stable/user_install.html\n",
      "  from .autonotebook import tqdm as notebook_tqdm\n"
     ]
    }
   ],
   "source": [
    "import os\n",
    "import torch\n",
    "import torchvision.transforms as transforms\n",
    "from torchvision.datasets import ImageFolder\n",
    "from torch.utils.data import DataLoader, random_split\n",
    "import torch.nn as nn\n",
    "import torch.optim as optim\n",
    "import torch.nn.utils.prune as prune\n",
    "import matplotlib.pyplot as plt\n",
    "from sklearn.metrics import classification_report, confusion_matrix\n",
    "import cv2\n",
    "from tqdm import tqdm\n",
    "from torchsummary import summary\n",
    "from fvcore.nn import FlopCountAnalysis, parameter_count\n",
    "from ptflops import get_model_complexity_info\n",
    "import time\n",
    "from torch.fx import symbolic_trace"
   ]
  },
  {
   "cell_type": "code",
   "execution_count": 2,
   "metadata": {},
   "outputs": [
    {
     "name": "stdout",
     "output_type": "stream",
     "text": [
      "Using device: cpu\n"
     ]
    }
   ],
   "source": [
    "# Device 설정\n",
    "device = torch.device(\"cpu\")\n",
    "print(f\"Using device: {device}\")"
   ]
  },
  {
   "cell_type": "code",
   "execution_count": 3,
   "metadata": {},
   "outputs": [],
   "source": [
    "# 데이터셋 경로 설정\n",
    "data_dir = \"data\""
   ]
  },
  {
   "cell_type": "code",
   "execution_count": 4,
   "metadata": {},
   "outputs": [],
   "source": [
    "# 전처리\n",
    "transform = transforms.Compose([\n",
    "    transforms.ToTensor(),\n",
    "    transforms.Normalize(mean=[0.485, 0.456, 0.406], std=[0.229, 0.224, 0.225])  # ImageNet stats\n",
    "])"
   ]
  },
  {
   "cell_type": "code",
   "execution_count": 5,
   "metadata": {},
   "outputs": [
    {
     "name": "stdout",
     "output_type": "stream",
     "text": [
      "Classes: ['with_mask', 'without_mask']\n"
     ]
    }
   ],
   "source": [
    "# 데이터셋 로드\n",
    "dataset = ImageFolder(root=data_dir, transform=transform)\n",
    "print(f\"Classes: {dataset.classes}\")"
   ]
  },
  {
   "cell_type": "code",
   "execution_count": 6,
   "metadata": {},
   "outputs": [],
   "source": [
    "# Train:Val:Test = 70:15:15 분할\n",
    "train_size = int(0.7 * len(dataset))\n",
    "val_size = int(0.15 * len(dataset))\n",
    "test_size = len(dataset) - train_size - val_size\n",
    "train_set, val_set, test_set = random_split(dataset, [train_size, val_size, test_size])"
   ]
  },
  {
   "cell_type": "code",
   "execution_count": 7,
   "metadata": {},
   "outputs": [],
   "source": [
    "# DataLoader 생성\n",
    "batch_size = 16\n",
    "train_loader = DataLoader(train_set, batch_size=batch_size, shuffle=True)\n",
    "val_loader = DataLoader(val_set, batch_size=batch_size, shuffle=False)\n",
    "test_loader = DataLoader(test_set, batch_size=batch_size, shuffle=False)"
   ]
  },
  {
   "cell_type": "code",
   "execution_count": 8,
   "metadata": {},
   "outputs": [],
   "source": [
    "class MaskClassifier(nn.Module):\n",
    "    def __init__(self):\n",
    "        super(MaskClassifier, self).__init__()\n",
    "        \n",
    "        # Feature Extraction - 더 얕은 구조로 변경\n",
    "        self.features = nn.Sequential(\n",
    "            # First Block\n",
    "            nn.Conv2d(3, 32, kernel_size=3, padding=1),\n",
    "            nn.BatchNorm2d(32),\n",
    "            nn.ReLU(inplace=True),\n",
    "            nn.MaxPool2d(2, 2),\n",
    "            nn.Dropout2d(0.2),\n",
    "            \n",
    "            # Second Block\n",
    "            nn.Conv2d(32, 64, kernel_size=3, padding=1),\n",
    "            nn.BatchNorm2d(64),\n",
    "            nn.ReLU(inplace=True),\n",
    "            nn.MaxPool2d(2, 2),\n",
    "            nn.Dropout2d(0.2),\n",
    "            \n",
    "            # Third Block\n",
    "            nn.Conv2d(64, 128, kernel_size=3, padding=1),\n",
    "            nn.BatchNorm2d(128),\n",
    "            nn.ReLU(inplace=True),\n",
    "            nn.MaxPool2d(2, 2),\n",
    "            nn.Dropout2d(0.2),\n",
    "        )\n",
    "        \n",
    "        # Classifier - 더 단순한 구조로 변경\n",
    "        self.classifier = nn.Sequential(\n",
    "            nn.AdaptiveAvgPool2d((1, 1)),\n",
    "            nn.Flatten(),\n",
    "            nn.Linear(128, 2)\n",
    "        )\n",
    "\n",
    "    def forward(self, x):\n",
    "        x = self.features(x)\n",
    "        x = self.classifier(x)\n",
    "        return x"
   ]
  },
  {
   "cell_type": "code",
   "execution_count": 9,
   "metadata": {},
   "outputs": [
    {
     "data": {
      "text/plain": [
       "<All keys matched successfully>"
      ]
     },
     "execution_count": 9,
     "metadata": {},
     "output_type": "execute_result"
    }
   ],
   "source": [
    "# 기존 모델 로드\n",
    "model = MaskClassifier().to(device)\n",
    "model.load_state_dict(torch.load(\"mask_classifier.pth\"))"
   ]
  },
  {
   "cell_type": "code",
   "execution_count": null,
   "metadata": {},
   "outputs": [],
   "source": [
    "# def apply_pruning(model, amount=0.7):\n",
    "#     # 먼저 프루닝 적용\n",
    "#     for name, module in model.named_modules():\n",
    "#         if isinstance(module, nn.Conv2d):\n",
    "#             prune.l1_unstructured(module, name='weight', amount=amount)\n",
    "#         elif isinstance(module, nn.Linear):\n",
    "#             prune.l1_unstructured(module, name='weight', amount=amount)\n",
    "#     return model\n",
    "\n",
    "def apply_pruning(model, amount=0.5):\n",
    "    for name, module in model.named_modules():\n",
    "        if isinstance(module, nn.Conv2d):\n",
    "            prune.l1_unstructured(module, name='weight', amount=amount)\n",
    "        elif isinstance(module, nn.Linear):\n",
    "            prune.l1_unstructured(module, name='weight', amount=amount)\n",
    "    return model"
   ]
  },
  {
   "cell_type": "code",
   "execution_count": null,
   "metadata": {},
   "outputs": [],
   "source": [
    "# def make_pruning_permanent(model):\n",
    "#     # 프루닝을 영구적으로 적용\n",
    "#     for name, module in model.named_modules():\n",
    "#         if isinstance(module, (nn.Conv2d, nn.Linear)):\n",
    "#             try:\n",
    "#                 prune.remove(module, 'weight')\n",
    "#             except:\n",
    "#                 pass\n",
    "#     return model"
   ]
  },
  {
   "cell_type": "code",
   "execution_count": 12,
   "metadata": {},
   "outputs": [
    {
     "name": "stdout",
     "output_type": "stream",
     "text": [
      "Applying pruning...\n"
     ]
    },
    {
     "data": {
      "text/plain": [
       "MaskClassifier(\n",
       "  (features): Sequential(\n",
       "    (0): Conv2d(3, 32, kernel_size=(3, 3), stride=(1, 1), padding=(1, 1))\n",
       "    (1): BatchNorm2d(32, eps=1e-05, momentum=0.1, affine=True, track_running_stats=True)\n",
       "    (2): ReLU(inplace=True)\n",
       "    (3): MaxPool2d(kernel_size=2, stride=2, padding=0, dilation=1, ceil_mode=False)\n",
       "    (4): Dropout2d(p=0.2, inplace=False)\n",
       "    (5): Conv2d(32, 64, kernel_size=(3, 3), stride=(1, 1), padding=(1, 1))\n",
       "    (6): BatchNorm2d(64, eps=1e-05, momentum=0.1, affine=True, track_running_stats=True)\n",
       "    (7): ReLU(inplace=True)\n",
       "    (8): MaxPool2d(kernel_size=2, stride=2, padding=0, dilation=1, ceil_mode=False)\n",
       "    (9): Dropout2d(p=0.2, inplace=False)\n",
       "    (10): Conv2d(64, 128, kernel_size=(3, 3), stride=(1, 1), padding=(1, 1))\n",
       "    (11): BatchNorm2d(128, eps=1e-05, momentum=0.1, affine=True, track_running_stats=True)\n",
       "    (12): ReLU(inplace=True)\n",
       "    (13): MaxPool2d(kernel_size=2, stride=2, padding=0, dilation=1, ceil_mode=False)\n",
       "    (14): Dropout2d(p=0.2, inplace=False)\n",
       "  )\n",
       "  (classifier): Sequential(\n",
       "    (0): AdaptiveAvgPool2d(output_size=(1, 1))\n",
       "    (1): Flatten(start_dim=1, end_dim=-1)\n",
       "    (2): Linear(in_features=128, out_features=2, bias=True)\n",
       "  )\n",
       ")"
      ]
     },
     "execution_count": 12,
     "metadata": {},
     "output_type": "execute_result"
    }
   ],
   "source": [
    "# Pruning 적용\n",
    "print(\"Applying pruning...\")\n",
    "apply_pruning(model, amount=0.7)"
   ]
  },
  {
   "cell_type": "code",
   "execution_count": 13,
   "metadata": {},
   "outputs": [],
   "source": [
    "# Loss function과 optimizer 설정\n",
    "criterion = nn.CrossEntropyLoss()\n",
    "learning_rate = 0.001\n",
    "num_epoch = 20\n",
    "optimizer = optim.Adam(\n",
    "    model.parameters(),\n",
    "    lr=learning_rate,\n",
    "    betas=(0.9, 0.999),\n",
    "    weight_decay=0.0001\n",
    ")"
   ]
  },
  {
   "cell_type": "code",
   "execution_count": 14,
   "metadata": {},
   "outputs": [],
   "source": [
    "def train_model(model, train_loader, val_loader, epochs=10):\n",
    "    best_val_acc = 0.0\n",
    "    \n",
    "    for epoch in range(epochs):\n",
    "        model.train()\n",
    "        train_loss = 0\n",
    "        correct = 0\n",
    "        total = 0\n",
    "        \n",
    "        progress_bar = tqdm(train_loader, desc=f\"Epoch {epoch + 1}/{epochs}\", unit=\"batch\")\n",
    "        \n",
    "        for images, labels in progress_bar:\n",
    "            images, labels = images.to(device), labels.to(device)\n",
    "            \n",
    "            optimizer.zero_grad()\n",
    "            outputs = model(images)\n",
    "            loss = criterion(outputs, labels)\n",
    "            loss.backward()\n",
    "            optimizer.step()\n",
    "            \n",
    "            train_loss += loss.item()\n",
    "            _, predicted = outputs.max(1)\n",
    "            total += labels.size(0)\n",
    "            correct += predicted.eq(labels).sum().item()\n",
    "            \n",
    "            # Progress Bar에 현재 배치의 accuracy 표시\n",
    "            batch_acc = 100. * correct / total\n",
    "            progress_bar.set_postfix({\n",
    "                'loss': f'{loss.item():.4f}',\n",
    "                'acc': f'{batch_acc:.2f}%'\n",
    "            })\n",
    "    \n",
    "    # 최종 학습 결과 평가\n",
    "    model.eval()\n",
    "    correct = 0\n",
    "    total = 0\n",
    "    with torch.no_grad():\n",
    "        for images, labels in val_loader:\n",
    "            images, labels = images.to(device), labels.to(device)\n",
    "            outputs = model(images)\n",
    "            _, predicted = outputs.max(1)\n",
    "            total += labels.size(0)\n",
    "            correct += predicted.eq(labels).sum().item()\n",
    "    \n",
    "    final_acc = 100. * correct / total\n",
    "    print(\"\\n=== Final Training Results ===\")\n",
    "    print(f\"Final Validation Accuracy: {final_acc:.2f}%\")"
   ]
  },
  {
   "cell_type": "code",
   "execution_count": 15,
   "metadata": {},
   "outputs": [
    {
     "name": "stderr",
     "output_type": "stream",
     "text": [
      "Epoch 1/20: 100%|██████████| 144/144 [01:24<00:00,  1.71batch/s, loss=0.0497, acc=89.23%]\n",
      "Epoch 2/20: 100%|██████████| 144/144 [01:20<00:00,  1.79batch/s, loss=0.4275, acc=91.10%]\n",
      "Epoch 3/20: 100%|██████████| 144/144 [01:19<00:00,  1.81batch/s, loss=0.0719, acc=92.11%]\n",
      "Epoch 4/20: 100%|██████████| 144/144 [01:12<00:00,  1.97batch/s, loss=0.0366, acc=92.54%]\n",
      "Epoch 5/20: 100%|██████████| 144/144 [01:13<00:00,  1.96batch/s, loss=0.0421, acc=92.85%]\n",
      "Epoch 6/20: 100%|██████████| 144/144 [01:12<00:00,  1.97batch/s, loss=0.4577, acc=92.46%]\n",
      "Epoch 7/20: 100%|██████████| 144/144 [01:13<00:00,  1.95batch/s, loss=0.1314, acc=92.28%]\n",
      "Epoch 8/20: 100%|██████████| 144/144 [01:15<00:00,  1.91batch/s, loss=0.0936, acc=92.76%]\n",
      "Epoch 9/20: 100%|██████████| 144/144 [01:14<00:00,  1.92batch/s, loss=0.1482, acc=93.46%]\n",
      "Epoch 10/20: 100%|██████████| 144/144 [01:14<00:00,  1.93batch/s, loss=0.0419, acc=93.20%]\n",
      "Epoch 11/20: 100%|██████████| 144/144 [01:15<00:00,  1.90batch/s, loss=0.0401, acc=92.54%]\n",
      "Epoch 12/20: 100%|██████████| 144/144 [02:11<00:00,  1.10batch/s, loss=0.1027, acc=93.59%]\n",
      "Epoch 13/20: 100%|██████████| 144/144 [02:48<00:00,  1.17s/batch, loss=0.0539, acc=93.24%]\n",
      "Epoch 14/20: 100%|██████████| 144/144 [02:52<00:00,  1.20s/batch, loss=0.0343, acc=93.41%]\n",
      "Epoch 15/20: 100%|██████████| 144/144 [02:52<00:00,  1.20s/batch, loss=0.0474, acc=93.76%]\n",
      "Epoch 16/20: 100%|██████████| 144/144 [02:55<00:00,  1.22s/batch, loss=0.0225, acc=93.89%]\n",
      "Epoch 17/20: 100%|██████████| 144/144 [02:54<00:00,  1.21s/batch, loss=0.4189, acc=94.24%]\n",
      "Epoch 18/20: 100%|██████████| 144/144 [02:54<00:00,  1.21s/batch, loss=0.4037, acc=93.24%]\n",
      "Epoch 19/20: 100%|██████████| 144/144 [02:54<00:00,  1.21s/batch, loss=0.0234, acc=93.46%]\n",
      "Epoch 20/20: 100%|██████████| 144/144 [02:54<00:00,  1.21s/batch, loss=0.1780, acc=94.24%]\n"
     ]
    },
    {
     "name": "stdout",
     "output_type": "stream",
     "text": [
      "\n",
      "=== Final Training Results ===\n",
      "Final Validation Accuracy: 96.54%\n"
     ]
    }
   ],
   "source": [
    "# 모델 학습 실행\n",
    "train_model(model, train_loader, val_loader, num_epoch)"
   ]
  },
  {
   "cell_type": "code",
   "execution_count": 16,
   "metadata": {},
   "outputs": [],
   "source": [
    "# 테스트 함수\n",
    "def test_model(model, test_loader):\n",
    "    model.eval()\n",
    "    all_labels = []\n",
    "    all_preds = []\n",
    "    with torch.no_grad():\n",
    "        progress_bar = tqdm(test_loader, desc=\"Testing\", unit=\"batch\")  # Progress Bar 추가\n",
    "        for images, labels in progress_bar:\n",
    "            images, labels = images.to(device), labels.to(device)\n",
    "            outputs = model(images)\n",
    "            _, preds = torch.max(outputs, 1)\n",
    "            all_labels.extend(labels.cpu().numpy())\n",
    "            all_preds.extend(preds.cpu().numpy())\n",
    "            \n",
    "            progress_bar.set_postfix(batch_accuracy=(preds == labels).float().mean().item())\n",
    "            \n",
    "    print(\"\\nTest Classification Report:\")\n",
    "    print(classification_report(all_labels, all_preds, target_names=dataset.classes))"
   ]
  },
  {
   "cell_type": "code",
   "execution_count": 17,
   "metadata": {},
   "outputs": [
    {
     "name": "stderr",
     "output_type": "stream",
     "text": [
      "Testing: 100%|██████████| 31/31 [00:29<00:00,  1.04batch/s, batch_accuracy=0.917]"
     ]
    },
    {
     "name": "stdout",
     "output_type": "stream",
     "text": [
      "\n",
      "Test Classification Report:\n",
      "              precision    recall  f1-score   support\n",
      "\n",
      "   with_mask       0.97      0.92      0.94       260\n",
      "without_mask       0.91      0.97      0.94       232\n",
      "\n",
      "    accuracy                           0.94       492\n",
      "   macro avg       0.94      0.94      0.94       492\n",
      "weighted avg       0.94      0.94      0.94       492\n",
      "\n"
     ]
    },
    {
     "name": "stderr",
     "output_type": "stream",
     "text": [
      "\n"
     ]
    }
   ],
   "source": [
    "# 테스트 실행\n",
    "test_model(model, test_loader)"
   ]
  },
  {
   "cell_type": "code",
   "execution_count": null,
   "metadata": {},
   "outputs": [
    {
     "name": "stdout",
     "output_type": "stream",
     "text": [
      "\n",
      "Making pruning permanent...\n"
     ]
    },
    {
     "data": {
      "text/plain": [
       "MaskClassifier(\n",
       "  (features): Sequential(\n",
       "    (0): Conv2d(3, 32, kernel_size=(3, 3), stride=(1, 1), padding=(1, 1))\n",
       "    (1): BatchNorm2d(32, eps=1e-05, momentum=0.1, affine=True, track_running_stats=True)\n",
       "    (2): ReLU(inplace=True)\n",
       "    (3): MaxPool2d(kernel_size=2, stride=2, padding=0, dilation=1, ceil_mode=False)\n",
       "    (4): Dropout2d(p=0.2, inplace=False)\n",
       "    (5): Conv2d(32, 64, kernel_size=(3, 3), stride=(1, 1), padding=(1, 1))\n",
       "    (6): BatchNorm2d(64, eps=1e-05, momentum=0.1, affine=True, track_running_stats=True)\n",
       "    (7): ReLU(inplace=True)\n",
       "    (8): MaxPool2d(kernel_size=2, stride=2, padding=0, dilation=1, ceil_mode=False)\n",
       "    (9): Dropout2d(p=0.2, inplace=False)\n",
       "    (10): Conv2d(64, 128, kernel_size=(3, 3), stride=(1, 1), padding=(1, 1))\n",
       "    (11): BatchNorm2d(128, eps=1e-05, momentum=0.1, affine=True, track_running_stats=True)\n",
       "    (12): ReLU(inplace=True)\n",
       "    (13): MaxPool2d(kernel_size=2, stride=2, padding=0, dilation=1, ceil_mode=False)\n",
       "    (14): Dropout2d(p=0.2, inplace=False)\n",
       "  )\n",
       "  (classifier): Sequential(\n",
       "    (0): AdaptiveAvgPool2d(output_size=(1, 1))\n",
       "    (1): Flatten(start_dim=1, end_dim=-1)\n",
       "    (2): Linear(in_features=128, out_features=2, bias=True)\n",
       "  )\n",
       ")"
      ]
     },
     "execution_count": 18,
     "metadata": {},
     "output_type": "execute_result"
    }
   ],
   "source": [
    "# # 프루닝 영구 적용\n",
    "# print(\"\\nMaking pruning permanent...\")\n",
    "# make_pruning_permanent(model)"
   ]
  },
  {
   "cell_type": "code",
   "execution_count": 19,
   "metadata": {},
   "outputs": [],
   "source": [
    "# Pruned 모델 저장\n",
    "def save_pruned_model(model, path=\"pruned_mask_classifier07.pth\"):\n",
    "    torch.save(model.state_dict(), path)\n",
    "    print(f\"Pruned model saved to {path}\")"
   ]
  },
  {
   "cell_type": "code",
   "execution_count": 20,
   "metadata": {},
   "outputs": [
    {
     "name": "stdout",
     "output_type": "stream",
     "text": [
      "Pruned model saved to pruned_mask_classifier07.pth\n"
     ]
    }
   ],
   "source": [
    "save_pruned_model(model, \"pruned_mask_classifier07.pth\")"
   ]
  },
  {
   "cell_type": "code",
   "execution_count": 21,
   "metadata": {},
   "outputs": [
    {
     "name": "stdout",
     "output_type": "stream",
     "text": [
      "Original Model Parameters:\n",
      "features.0.weight: 864 parameters, 0 zeros\n",
      "features.0.bias: 32 parameters, 0 zeros\n",
      "features.1.weight: 32 parameters, 0 zeros\n",
      "features.1.bias: 32 parameters, 32 zeros\n",
      "features.5.weight: 18432 parameters, 0 zeros\n",
      "features.5.bias: 64 parameters, 0 zeros\n",
      "features.6.weight: 64 parameters, 0 zeros\n",
      "features.6.bias: 64 parameters, 64 zeros\n",
      "features.10.weight: 73728 parameters, 0 zeros\n",
      "features.10.bias: 128 parameters, 0 zeros\n",
      "features.11.weight: 128 parameters, 0 zeros\n",
      "features.11.bias: 128 parameters, 128 zeros\n",
      "classifier.2.weight: 256 parameters, 0 zeros\n",
      "classifier.2.bias: 2 parameters, 0 zeros\n",
      "\n",
      "Total parameters: 93,954\n",
      "Zero parameters: 224\n",
      "Sparsity: 0.24%\n",
      "\n",
      "Pruned Model Parameters:\n",
      "features.0.weight: 864 parameters, 605 zeros\n",
      "features.0.bias: 32 parameters, 0 zeros\n",
      "features.1.weight: 32 parameters, 0 zeros\n",
      "features.1.bias: 32 parameters, 0 zeros\n",
      "features.5.weight: 18432 parameters, 12902 zeros\n",
      "features.5.bias: 64 parameters, 0 zeros\n",
      "features.6.weight: 64 parameters, 0 zeros\n",
      "features.6.bias: 64 parameters, 0 zeros\n",
      "features.10.weight: 73728 parameters, 51610 zeros\n",
      "features.10.bias: 128 parameters, 0 zeros\n",
      "features.11.weight: 128 parameters, 0 zeros\n",
      "features.11.bias: 128 parameters, 0 zeros\n",
      "classifier.2.weight: 256 parameters, 179 zeros\n",
      "classifier.2.bias: 2 parameters, 0 zeros\n",
      "\n",
      "Total parameters: 93,954\n",
      "Zero parameters: 65,296\n",
      "Sparsity: 69.50%\n"
     ]
    }
   ],
   "source": [
    "def count_parameters(model):\n",
    "    total_params = 0\n",
    "    zero_params = 0\n",
    "    for name, param in model.named_parameters():\n",
    "        num_params = param.numel()\n",
    "        total_params += num_params\n",
    "        zero_params += (param == 0).sum().item()\n",
    "        print(f\"{name}: {num_params} parameters, {(param == 0).sum().item()} zeros\")\n",
    "    \n",
    "    print(f\"\\nTotal parameters: {total_params:,}\")\n",
    "    print(f\"Zero parameters: {zero_params:,}\")\n",
    "    print(f\"Sparsity: {100 * zero_params / total_params:.2f}%\")\n",
    "    return total_params, zero_params\n",
    "\n",
    "# Create and analyze original model\n",
    "original_model = MaskClassifier().to(device)\n",
    "print(\"Original Model Parameters:\")\n",
    "orig_total, orig_zeros = count_parameters(original_model)\n",
    "\n",
    "# Load and analyze pruned model\n",
    "pruned_model = MaskClassifier().to(device)\n",
    "pruned_model.load_state_dict(torch.load(\"pruned_mask_classifier07.pth\", map_location=device))\n",
    "print(\"\\nPruned Model Parameters:\")\n",
    "pruned_total, pruned_zeros = count_parameters(pruned_model)"
   ]
  }
 ],
 "metadata": {
  "kernelspec": {
   "display_name": "eai",
   "language": "python",
   "name": "python3"
  },
  "language_info": {
   "codemirror_mode": {
    "name": "ipython",
    "version": 3
   },
   "file_extension": ".py",
   "mimetype": "text/x-python",
   "name": "python",
   "nbconvert_exporter": "python",
   "pygments_lexer": "ipython3",
   "version": "3.6.13"
  }
 },
 "nbformat": 4,
 "nbformat_minor": 2
}
