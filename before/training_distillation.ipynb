{
 "cells": [
  {
   "cell_type": "code",
   "execution_count": 14,
   "metadata": {},
   "outputs": [],
   "source": [
    "import os\n",
    "import torch\n",
    "import torchvision.transforms as transforms\n",
    "from torchvision.datasets import ImageFolder\n",
    "from torch.utils.data import DataLoader, random_split\n",
    "import torch.nn as nn\n",
    "import torch.nn.functional as F\n",
    "import torch.optim as optim\n",
    "import matplotlib.pyplot as plt\n",
    "from sklearn.metrics import classification_report, confusion_matrix\n",
    "import cv2\n",
    "# from evaluator import ModelEvaluator\n",
    "from tqdm import tqdm\n",
    "from torchsummary import summary\n",
    "from fvcore.nn import FlopCountAnalysis, parameter_count\n",
    "from ptflops import get_model_complexity_info\n",
    "import time"
   ]
  },
  {
   "cell_type": "code",
   "execution_count": null,
   "metadata": {},
   "outputs": [
    {
     "name": "stdout",
     "output_type": "stream",
     "text": [
      "Using device: cpu\n"
     ]
    }
   ],
   "source": [
    "# Device 설정\n",
    "device = torch.device(\"cpu\")\n",
    "print(f\"Using device: {device}\")"
   ]
  },
  {
   "cell_type": "code",
   "execution_count": 17,
   "metadata": {},
   "outputs": [],
   "source": [
    "# Teacher Model 정의\n",
    "class MaskClassifier(nn.Module):\n",
    "    def __init__(self):\n",
    "        super(MaskClassifier, self).__init__()\n",
    "        \n",
    "        self.features = nn.Sequential(\n",
    "            # First Block\n",
    "            nn.Conv2d(3, 32, kernel_size=3, padding=1),\n",
    "            nn.BatchNorm2d(32),\n",
    "            nn.ReLU(inplace=True),\n",
    "            nn.MaxPool2d(2, 2),\n",
    "            nn.Dropout2d(0.2),\n",
    "            \n",
    "            # Second Block\n",
    "            nn.Conv2d(32, 64, kernel_size=3, padding=1),\n",
    "            nn.BatchNorm2d(64),\n",
    "            nn.ReLU(inplace=True),\n",
    "            nn.MaxPool2d(2, 2),\n",
    "            nn.Dropout2d(0.2),\n",
    "            \n",
    "            # Third Block\n",
    "            nn.Conv2d(64, 128, kernel_size=3, padding=1),\n",
    "            nn.BatchNorm2d(128),\n",
    "            nn.ReLU(inplace=True),\n",
    "            nn.MaxPool2d(2, 2),\n",
    "            nn.Dropout2d(0.2),\n",
    "        )\n",
    "        \n",
    "        self.classifier = nn.Sequential(\n",
    "            nn.AdaptiveAvgPool2d((1, 1)),\n",
    "            nn.Flatten(),\n",
    "            nn.Linear(128, 2)\n",
    "        )\n",
    "\n",
    "    def forward(self, x):\n",
    "        x = self.features(x)\n",
    "        x = self.classifier(x)\n",
    "        return x"
   ]
  },
  {
   "cell_type": "code",
   "execution_count": 18,
   "metadata": {},
   "outputs": [],
   "source": [
    "# Student Model 정의 (파라미터 95% 감소)\n",
    "class SmallMaskClassifier(nn.Module):\n",
    "    def __init__(self):\n",
    "        super(SmallMaskClassifier, self).__init__()\n",
    "        \n",
    "        self.features = nn.Sequential(\n",
    "            # First Block\n",
    "            nn.Conv2d(3, 8, kernel_size=3, padding=1),\n",
    "            nn.BatchNorm2d(8),\n",
    "            nn.ReLU(inplace=True),\n",
    "            nn.MaxPool2d(2, 2),\n",
    "            \n",
    "            # Second Block\n",
    "            nn.Conv2d(8, 16, kernel_size=3, padding=1),\n",
    "            nn.BatchNorm2d(16),\n",
    "            nn.ReLU(inplace=True),\n",
    "            nn.MaxPool2d(2, 2),\n",
    "            \n",
    "            # Third Block\n",
    "            nn.Conv2d(16, 32, kernel_size=3, padding=1),\n",
    "            nn.BatchNorm2d(32),\n",
    "            nn.ReLU(inplace=True),\n",
    "            nn.MaxPool2d(2, 2),\n",
    "        )\n",
    "        \n",
    "        self.classifier = nn.Sequential(\n",
    "            nn.AdaptiveAvgPool2d((1, 1)),\n",
    "            nn.Flatten(),\n",
    "            nn.Linear(32, 2)\n",
    "        )\n",
    "\n",
    "    def forward(self, x):\n",
    "        x = self.features(x)\n",
    "        x = self.classifier(x)\n",
    "        return x\n"
   ]
  },
  {
   "cell_type": "code",
   "execution_count": 19,
   "metadata": {},
   "outputs": [],
   "source": [
    "# Knowledge Distillation Loss\n",
    "class DistillationLoss:\n",
    "    def __init__(self, temperature=4.0, alpha=0.5):\n",
    "        self.temperature = temperature\n",
    "        self.alpha = alpha\n",
    "        self.criterion = nn.CrossEntropyLoss()\n",
    "\n",
    "    def __call__(self, student_outputs, teacher_outputs, labels):\n",
    "        hard_loss = self.criterion(student_outputs, labels)\n",
    "        soft_student = F.log_softmax(student_outputs / self.temperature, dim=1)\n",
    "        soft_teacher = F.softmax(teacher_outputs / self.temperature, dim=1)\n",
    "        soft_loss = F.kl_div(soft_student, soft_teacher, reduction='batchmean') * (self.temperature ** 2)\n",
    "        return self.alpha * hard_loss + (1 - self.alpha) * soft_loss"
   ]
  },
  {
   "cell_type": "code",
   "execution_count": 20,
   "metadata": {},
   "outputs": [],
   "source": [
    "# 데이터셋 경로\n",
    "data_dir = \"data\""
   ]
  },
  {
   "cell_type": "code",
   "execution_count": 21,
   "metadata": {},
   "outputs": [],
   "source": [
    "# 전처리\n",
    "transform = transforms.Compose([\n",
    "    transforms.ToTensor(),\n",
    "    transforms.Normalize(mean=[0.485, 0.456, 0.406], std=[0.229, 0.224, 0.225])  # ImageNet stats\n",
    "])"
   ]
  },
  {
   "cell_type": "code",
   "execution_count": 22,
   "metadata": {},
   "outputs": [
    {
     "name": "stdout",
     "output_type": "stream",
     "text": [
      "Classes: ['with_mask', 'without_mask']\n"
     ]
    }
   ],
   "source": [
    "# 데이터셋 로드\n",
    "dataset = ImageFolder(root=data_dir, transform=transform)\n",
    "print(f\"Classes: {dataset.classes}\")"
   ]
  },
  {
   "cell_type": "code",
   "execution_count": 23,
   "metadata": {},
   "outputs": [],
   "source": [
    "# Train:Val:Test = 70:15:15 분할\n",
    "train_size = int(0.7 * len(dataset))\n",
    "val_size = int(0.15 * len(dataset))\n",
    "test_size = len(dataset) - train_size - val_size\n",
    "train_set, val_set, test_set = random_split(dataset, [train_size, val_size, test_size])"
   ]
  },
  {
   "cell_type": "code",
   "execution_count": 24,
   "metadata": {},
   "outputs": [],
   "source": [
    "# DataLoader 생성\n",
    "batch_size = 16\n",
    "train_loader = DataLoader(train_set, batch_size=batch_size, shuffle=True)\n",
    "val_loader = DataLoader(val_set, batch_size=batch_size, shuffle=False)\n",
    "test_loader = DataLoader(test_set, batch_size=batch_size, shuffle=False)"
   ]
  },
  {
   "cell_type": "code",
   "execution_count": 25,
   "metadata": {},
   "outputs": [],
   "source": [
    "# 테스트 함수\n",
    "def test_model(model, test_loader):\n",
    "    \"\"\"\n",
    "    Args:\n",
    "        model (torch.nn.Module): 평가할 모델\n",
    "        test_loader (DataLoader): 테스트 데이터 로더\n",
    "    \"\"\"\n",
    "    model.eval()\n",
    "    all_labels = []\n",
    "    all_preds = []\n",
    "\n",
    "    with torch.no_grad():\n",
    "        progress_bar = tqdm(test_loader, desc=\"Testing\", unit=\"batch\")\n",
    "        for images, labels in progress_bar:\n",
    "            images, labels = images.to(device), labels.to(device)\n",
    "            outputs = model(images)\n",
    "            _, preds = torch.max(outputs, 1)\n",
    "            all_labels.extend(labels.cpu().numpy())\n",
    "            all_preds.extend(preds.cpu().numpy())\n",
    "\n",
    "            progress_bar.set_postfix(batch_accuracy=(preds == labels).float().mean().item())\n",
    "\n",
    "    print(\"\\nTest Classification Report:\")\n",
    "    print(classification_report(all_labels, all_preds, target_names=dataset.classes))"
   ]
  },
  {
   "cell_type": "code",
   "execution_count": 26,
   "metadata": {},
   "outputs": [],
   "source": [
    "# 모델 저장 함수\n",
    "def save_model(model, path=\"mask_classifier.pth\"):\n",
    "    torch.save(model.state_dict(), path)\n",
    "    print(f\"Model saved to {path}\")"
   ]
  },
  {
   "cell_type": "code",
   "execution_count": 27,
   "metadata": {},
   "outputs": [],
   "source": [
    "# Student 모델 학습 함수\n",
    "def train_student_model(teacher_model, student_model, train_loader, val_loader, epochs=20):\n",
    "    optimizer = optim.Adam(student_model.parameters(), lr=0.001, weight_decay=0.0001)\n",
    "    distill_loss = DistillationLoss(temperature=4.0, alpha=0.5)\n",
    "    \n",
    "    for epoch in range(epochs):\n",
    "        student_model.train()\n",
    "        correct = 0\n",
    "        total = 0\n",
    "        progress_bar = tqdm(train_loader, desc=f\"Epoch {epoch + 1}/{epochs}\", unit=\"batch\")\n",
    "        \n",
    "        for images, labels in progress_bar:\n",
    "            images, labels = images.to(device), labels.to(device)\n",
    "            \n",
    "            with torch.no_grad():\n",
    "                teacher_outputs = teacher_model(images)\n",
    "            \n",
    "            optimizer.zero_grad()\n",
    "            student_outputs = student_model(images)\n",
    "            \n",
    "            loss = distill_loss(student_outputs, teacher_outputs, labels)\n",
    "            loss.backward()\n",
    "            optimizer.step()\n",
    "            \n",
    "            _, predicted = student_outputs.max(1)\n",
    "            total += labels.size(0)\n",
    "            correct += predicted.eq(labels).sum().item()\n",
    "            \n",
    "            accuracy = 100. * correct / total\n",
    "            progress_bar.set_postfix({\n",
    "                'loss': f'{loss.item():.4f}',\n",
    "                'acc': f'{accuracy:.2f}%'\n",
    "            })\n",
    "    \n",
    "    # Validation\n",
    "    student_model.eval()\n",
    "    correct = 0\n",
    "    total = 0\n",
    "    with torch.no_grad():\n",
    "        for images, labels in val_loader:\n",
    "            images, labels = images.to(device), labels.to(device)\n",
    "            outputs = student_model(images)\n",
    "            _, predicted = outputs.max(1)\n",
    "            total += labels.size(0)\n",
    "            correct += predicted.eq(labels).sum().item()\n",
    "    \n",
    "    final_acc = 100. * correct / total\n",
    "    print(\"\\n=== Final Training Results ===\")\n",
    "    print(f\"Final Validation Accuracy: {final_acc:.2f}%\")"
   ]
  },
  {
   "cell_type": "code",
   "execution_count": 28,
   "metadata": {},
   "outputs": [
    {
     "data": {
      "text/plain": [
       "MaskClassifier(\n",
       "  (features): Sequential(\n",
       "    (0): Conv2d(3, 32, kernel_size=(3, 3), stride=(1, 1), padding=(1, 1))\n",
       "    (1): BatchNorm2d(32, eps=1e-05, momentum=0.1, affine=True, track_running_stats=True)\n",
       "    (2): ReLU(inplace=True)\n",
       "    (3): MaxPool2d(kernel_size=2, stride=2, padding=0, dilation=1, ceil_mode=False)\n",
       "    (4): Dropout2d(p=0.2, inplace=False)\n",
       "    (5): Conv2d(32, 64, kernel_size=(3, 3), stride=(1, 1), padding=(1, 1))\n",
       "    (6): BatchNorm2d(64, eps=1e-05, momentum=0.1, affine=True, track_running_stats=True)\n",
       "    (7): ReLU(inplace=True)\n",
       "    (8): MaxPool2d(kernel_size=2, stride=2, padding=0, dilation=1, ceil_mode=False)\n",
       "    (9): Dropout2d(p=0.2, inplace=False)\n",
       "    (10): Conv2d(64, 128, kernel_size=(3, 3), stride=(1, 1), padding=(1, 1))\n",
       "    (11): BatchNorm2d(128, eps=1e-05, momentum=0.1, affine=True, track_running_stats=True)\n",
       "    (12): ReLU(inplace=True)\n",
       "    (13): MaxPool2d(kernel_size=2, stride=2, padding=0, dilation=1, ceil_mode=False)\n",
       "    (14): Dropout2d(p=0.2, inplace=False)\n",
       "  )\n",
       "  (classifier): Sequential(\n",
       "    (0): AdaptiveAvgPool2d(output_size=(1, 1))\n",
       "    (1): Flatten(start_dim=1, end_dim=-1)\n",
       "    (2): Linear(in_features=128, out_features=2, bias=True)\n",
       "  )\n",
       ")"
      ]
     },
     "execution_count": 28,
     "metadata": {},
     "output_type": "execute_result"
    }
   ],
   "source": [
    "# 저장된 Teacher 모델 불러오기\n",
    "teacher_model = MaskClassifier().to(device)\n",
    "teacher_model.load_state_dict(torch.load(\"mask_classifier.pth\", map_location=device))\n",
    "teacher_model.eval()"
   ]
  },
  {
   "cell_type": "code",
   "execution_count": 29,
   "metadata": {},
   "outputs": [],
   "source": [
    "# Student 모델 초기화\n",
    "student_model = SmallMaskClassifier().to(device)"
   ]
  },
  {
   "cell_type": "code",
   "execution_count": 30,
   "metadata": {},
   "outputs": [
    {
     "name": "stdout",
     "output_type": "stream",
     "text": [
      "\n",
      "Model Parameters Comparison:\n",
      "Teacher Model: 93,954 parameters\n",
      "Student Model: 6,210 parameters\n",
      "Parameter Reduction: 93.39%\n"
     ]
    }
   ],
   "source": [
    "# 파라미터 수 비교\n",
    "teacher_params = sum(p.numel() for p in teacher_model.parameters())\n",
    "student_params = sum(p.numel() for p in student_model.parameters())\n",
    "reduction = 100 * (1 - student_params / teacher_params)\n",
    "\n",
    "print(\"\\nModel Parameters Comparison:\")\n",
    "print(f\"Teacher Model: {teacher_params:,} parameters\")\n",
    "print(f\"Student Model: {student_params:,} parameters\")\n",
    "print(f\"Parameter Reduction: {reduction:.2f}%\")"
   ]
  },
  {
   "cell_type": "code",
   "execution_count": 31,
   "metadata": {},
   "outputs": [
    {
     "name": "stdout",
     "output_type": "stream",
     "text": [
      "\n",
      "Training Student Model with Knowledge Distillation...\n"
     ]
    },
    {
     "name": "stderr",
     "output_type": "stream",
     "text": [
      "Epoch 1/20: 100%|██████████| 144/144 [00:52<00:00,  2.76batch/s, loss=0.5105, acc=83.78%]\n",
      "Epoch 2/20: 100%|██████████| 144/144 [00:51<00:00,  2.81batch/s, loss=0.7343, acc=87.66%]\n",
      "Epoch 3/20: 100%|██████████| 144/144 [00:49<00:00,  2.89batch/s, loss=0.1657, acc=88.88%]\n",
      "Epoch 4/20: 100%|██████████| 144/144 [00:49<00:00,  2.88batch/s, loss=0.6538, acc=90.19%]\n",
      "Epoch 5/20: 100%|██████████| 144/144 [00:49<00:00,  2.88batch/s, loss=0.0969, acc=90.36%]\n",
      "Epoch 6/20: 100%|██████████| 144/144 [00:52<00:00,  2.76batch/s, loss=0.0872, acc=91.67%]\n",
      "Epoch 7/20: 100%|██████████| 144/144 [00:50<00:00,  2.83batch/s, loss=0.4927, acc=91.67%]\n",
      "Epoch 8/20: 100%|██████████| 144/144 [00:49<00:00,  2.90batch/s, loss=0.3837, acc=91.98%]\n",
      "Epoch 9/20: 100%|██████████| 144/144 [00:50<00:00,  2.86batch/s, loss=0.1875, acc=92.11%]\n",
      "Epoch 10/20: 100%|██████████| 144/144 [00:50<00:00,  2.85batch/s, loss=0.1031, acc=92.67%]\n",
      "Epoch 11/20: 100%|██████████| 144/144 [00:53<00:00,  2.71batch/s, loss=0.5745, acc=91.89%]\n",
      "Epoch 12/20: 100%|██████████| 144/144 [00:50<00:00,  2.85batch/s, loss=0.9868, acc=92.67%]\n",
      "Epoch 13/20: 100%|██████████| 144/144 [00:50<00:00,  2.85batch/s, loss=0.9968, acc=93.76%]\n",
      "Epoch 14/20: 100%|██████████| 144/144 [00:53<00:00,  2.67batch/s, loss=0.0975, acc=93.72%]\n",
      "Epoch 15/20: 100%|██████████| 144/144 [01:00<00:00,  2.39batch/s, loss=0.1859, acc=93.33%]\n",
      "Epoch 16/20: 100%|██████████| 144/144 [00:52<00:00,  2.77batch/s, loss=0.1373, acc=93.28%]\n",
      "Epoch 17/20: 100%|██████████| 144/144 [00:56<00:00,  2.54batch/s, loss=0.0476, acc=93.63%]\n",
      "Epoch 18/20: 100%|██████████| 144/144 [00:53<00:00,  2.68batch/s, loss=0.0883, acc=94.16%]\n",
      "Epoch 19/20: 100%|██████████| 144/144 [00:52<00:00,  2.77batch/s, loss=0.6500, acc=93.85%]\n",
      "Epoch 20/20: 100%|██████████| 144/144 [00:53<00:00,  2.67batch/s, loss=0.0894, acc=93.59%]\n"
     ]
    },
    {
     "name": "stdout",
     "output_type": "stream",
     "text": [
      "\n",
      "=== Final Training Results ===\n",
      "Final Validation Accuracy: 93.48%\n"
     ]
    }
   ],
   "source": [
    "# 학습 실행\n",
    "num_epoch = 20\n",
    "print(\"\\nTraining Student Model with Knowledge Distillation...\")\n",
    "train_student_model(teacher_model, student_model, train_loader, val_loader, num_epoch)"
   ]
  },
  {
   "cell_type": "code",
   "execution_count": 32,
   "metadata": {},
   "outputs": [
    {
     "name": "stdout",
     "output_type": "stream",
     "text": [
      "\n",
      "Evaluating Student Model...\n"
     ]
    },
    {
     "name": "stderr",
     "output_type": "stream",
     "text": [
      "Testing: 100%|██████████| 31/31 [00:02<00:00, 11.18batch/s, batch_accuracy=0.917]\n"
     ]
    },
    {
     "name": "stdout",
     "output_type": "stream",
     "text": [
      "\n",
      "Test Classification Report:\n",
      "              precision    recall  f1-score   support\n",
      "\n",
      "   with_mask       0.98      0.95      0.96       249\n",
      "without_mask       0.95      0.98      0.96       243\n",
      "\n",
      "    accuracy                           0.96       492\n",
      "   macro avg       0.96      0.96      0.96       492\n",
      "weighted avg       0.96      0.96      0.96       492\n",
      "\n"
     ]
    }
   ],
   "source": [
    "# 테스트 실행\n",
    "print(\"\\nEvaluating Student Model...\")\n",
    "test_model(student_model, test_loader)"
   ]
  },
  {
   "cell_type": "code",
   "execution_count": 34,
   "metadata": {},
   "outputs": [
    {
     "name": "stdout",
     "output_type": "stream",
     "text": [
      "Model saved to student_model.pth\n"
     ]
    }
   ],
   "source": [
    "# Student 모델 저장\n",
    "save_model(student_model, \"student_model.pth\")"
   ]
  }
 ],
 "metadata": {
  "kernelspec": {
   "display_name": "eai",
   "language": "python",
   "name": "python3"
  },
  "language_info": {
   "codemirror_mode": {
    "name": "ipython",
    "version": 3
   },
   "file_extension": ".py",
   "mimetype": "text/x-python",
   "name": "python",
   "nbconvert_exporter": "python",
   "pygments_lexer": "ipython3",
   "version": "3.6.13"
  }
 },
 "nbformat": 4,
 "nbformat_minor": 2
}
